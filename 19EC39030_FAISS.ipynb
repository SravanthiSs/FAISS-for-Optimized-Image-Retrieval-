{
  "cells": [
    {
      "cell_type": "markdown",
      "source": [
        "**Final Code**"
      ],
      "metadata": {
        "id": "k1BKh0FOhuUV"
      }
    },
    {
      "cell_type": "markdown",
      "metadata": {
        "id": "DH2aCIjRDmdw"
      },
      "source": [
        "Installing faiss\n"
      ]
    },
    {
      "cell_type": "code",
      "execution_count": null,
      "metadata": {
        "colab": {
          "base_uri": "https://localhost:8080/"
        },
        "id": "Kq4mAU8WWZEC",
        "outputId": "efd21395-ffed-4a48-d690-a3488360a768"
      },
      "outputs": [
        {
          "output_type": "stream",
          "name": "stdout",
          "text": [
            "Looking in indexes: https://pypi.org/simple, https://us-python.pkg.dev/colab-wheels/public/simple/\n",
            "Requirement already satisfied: faiss-gpu in /usr/local/lib/python3.7/dist-packages (1.7.2)\n"
          ]
        }
      ],
      "source": [
        "!pip install faiss-gpu"
      ]
    },
    {
      "cell_type": "markdown",
      "source": [
        "Imports and device settings"
      ],
      "metadata": {
        "id": "-1z-oToNh7eN"
      }
    },
    {
      "cell_type": "code",
      "source": [
        "import numpy as np\n",
        "import pandas as pd\n",
        "import cv2\n",
        "import os\n",
        "import torch\n",
        "import torchvision\n",
        "import torchvision.transforms as transforms\n",
        "import torchvision.models as models\n",
        "from matplotlib import pyplot as plt\n",
        "%matplotlib inline\n",
        "\n",
        "# Let's first define our device as the first visible cuda device if we have\n",
        "# CUDA available:\n",
        "\n",
        "device = torch.device('cuda:0' if torch.cuda.is_available() else 'cpu')\n",
        "# Assuming that we are on a CUDA machine, this should print a CUDA device:\n",
        "print(device)"
      ],
      "metadata": {
        "id": "2gyVhOlPh7E7",
        "colab": {
          "base_uri": "https://localhost:8080/"
        },
        "outputId": "a8005181-596c-4100-b8c6-e18a3df27f2d"
      },
      "execution_count": null,
      "outputs": [
        {
          "output_type": "stream",
          "name": "stdout",
          "text": [
            "cuda:0\n"
          ]
        }
      ]
    },
    {
      "cell_type": "markdown",
      "source": [
        "Loading data as training and testing sets"
      ],
      "metadata": {
        "id": "vguwhHVaiuCJ"
      }
    },
    {
      "cell_type": "code",
      "source": [
        "transform = transforms.Compose([transforms.ToTensor(),\n",
        "            transforms.Normalize((0.5, 0.5, 0.5), (0.5, 0.5, 0.5))])\n",
        "trainset = torchvision.datasets.CIFAR10(root='./data', train=True,\n",
        "                                        download=True, transform=transform)\n",
        "\n",
        "testset = torchvision.datasets.CIFAR10(root='./data', train=False,\n",
        "                                       download=True, transform=transform)"
      ],
      "metadata": {
        "id": "MkQnn9S7itqU",
        "colab": {
          "base_uri": "https://localhost:8080/"
        },
        "outputId": "d58a7765-bbdf-4e28-bff2-4f3b44fa5d7b"
      },
      "execution_count": null,
      "outputs": [
        {
          "output_type": "stream",
          "name": "stdout",
          "text": [
            "Files already downloaded and verified\n",
            "Files already downloaded and verified\n"
          ]
        }
      ]
    },
    {
      "cell_type": "markdown",
      "source": [
        "Using Dataloader to load batched data with applied transformation"
      ],
      "metadata": {
        "id": "I_EvvTOdjAM1"
      }
    },
    {
      "cell_type": "code",
      "source": [
        "batch_size = 10\n",
        "\n",
        "trainloader = torch.utils.data.DataLoader(trainset, batch_size=batch_size,\n",
        "                                          shuffle=True, num_workers=2)\n",
        "testloader = torch.utils.data.DataLoader(testset, batch_size=batch_size,\n",
        "                                         shuffle=False, num_workers=2)"
      ],
      "metadata": {
        "id": "W09cU3dojK-L"
      },
      "execution_count": null,
      "outputs": []
    },
    {
      "cell_type": "markdown",
      "source": [
        "Plotting Few images in dataset"
      ],
      "metadata": {
        "id": "zHe0LAZPYqc2"
      }
    },
    {
      "cell_type": "code",
      "source": [
        "for batch in trainloader:\n",
        "    inputs, targets = batch\n",
        "    for img in inputs:\n",
        "        image  = img.cpu().numpy()\n",
        "        # transpose image to fit plt input\n",
        "        image = image.T\n",
        "        image=image.transpose(1,0,2)#1,0,2\n",
        "        # normalise image\n",
        "        data_min = np.min(image, axis=(0,1), keepdims=True)\n",
        "        data_max = np.max(image, axis=(0,1), keepdims=True)\n",
        "        scaled_data = (image - data_min) / (data_max - data_min)\n",
        "        # show image\n",
        "        plt.imshow(scaled_data)\n",
        "        plt.show()\n",
        "        break\n",
        ""
      ],
      "metadata": {
        "id": "yXXgjlwUbf25"
      },
      "execution_count": null,
      "outputs": []
    },
    {
      "cell_type": "markdown",
      "source": [
        "Using pretrained RESNET18 model for extracting features from images &\n",
        "Obtaining Image Embeddings"
      ],
      "metadata": {
        "id": "M-WTTiuliSCc"
      }
    },
    {
      "cell_type": "code",
      "execution_count": null,
      "metadata": {
        "id": "jsmcZ3w-Emw-",
        "colab": {
          "base_uri": "https://localhost:8080/",
          "height": 173,
          "referenced_widgets": [
            "364d287336364edd855ad71877326ab7",
            "b54e33ade4bf4da4bd7c7d6b3f721ccc",
            "46844b177912422c88b1a26906710a2f",
            "b9c7528efc564b9ba13cd40d7492a3d9",
            "8f393592c379400483729f967b88109a",
            "e337caca49304cc7b1d22bc40857c3bd",
            "bd533ecd9e27497792e60b8c43d9e821",
            "d8efdcd2b4a84f488075e035e61690fc",
            "19bb8da204a44c6fb74156861fcfbec1",
            "43ed7d3008054e7b89952066bef70883",
            "561b5cc11fea42f49c3b074eafa861cc"
          ]
        },
        "outputId": "22e2233d-7b91-491f-dc5b-06db0e3faf28"
      },
      "outputs": [
        {
          "output_type": "stream",
          "name": "stderr",
          "text": [
            "Downloading: \"https://github.com/pytorch/vision/zipball/v0.10.0\" to /root/.cache/torch/hub/v0.10.0.zip\n",
            "/usr/local/lib/python3.7/dist-packages/torchvision/models/_utils.py:209: UserWarning: The parameter 'pretrained' is deprecated since 0.13 and will be removed in 0.15, please use 'weights' instead.\n",
            "  f\"The parameter '{pretrained_param}' is deprecated since 0.13 and will be removed in 0.15, \"\n",
            "/usr/local/lib/python3.7/dist-packages/torchvision/models/_utils.py:223: UserWarning: Arguments other than a weight enum or `None` for 'weights' are deprecated since 0.13 and will be removed in 0.15. The current behavior is equivalent to passing `weights=ResNet18_Weights.IMAGENET1K_V1`. You can also use `weights=ResNet18_Weights.DEFAULT` to get the most up-to-date weights.\n",
            "  warnings.warn(msg)\n",
            "Downloading: \"https://download.pytorch.org/models/resnet18-f37072fd.pth\" to /root/.cache/torch/hub/checkpoints/resnet18-f37072fd.pth\n"
          ]
        },
        {
          "output_type": "display_data",
          "data": {
            "text/plain": [
              "  0%|          | 0.00/44.7M [00:00<?, ?B/s]"
            ],
            "application/vnd.jupyter.widget-view+json": {
              "version_major": 2,
              "version_minor": 0,
              "model_id": "364d287336364edd855ad71877326ab7"
            }
          },
          "metadata": {}
        }
      ],
      "source": [
        "model_a= torch.hub.load('pytorch/vision:v0.10.0', 'resnet18', pretrained=True)\n",
        "# Select the desired layer\n",
        "layer_a = model_a._modules.get('avgpool')\n",
        "\n",
        "def image_embeddings(m, i, o):\n",
        "    \"\"\"Copy embeddings from the penultimate layer.\n",
        "    \"\"\"\n",
        "    o = o[:, :, 0, 0].detach().numpy().tolist()\n",
        "    outputs_a.append(o)\n",
        "\n",
        "outputs_a = []\n",
        "# attach hook to the penulimate layer\n",
        "_ = layer_a.register_forward_hook(image_embeddings)\n",
        "\n",
        "model_a.eval() # Inference model\n",
        "\n",
        "# Generate image's embeddings for all images in dloader and saves\n",
        "# them in the list outputs\n",
        "# count=0\n",
        "for i in trainloader:\n",
        "    _ = model_a(i[0])\n",
        "    # count+=1\n",
        "    # print(count)\n",
        "# flatten list of embeddings to remove batches\n",
        "list_embeddings1 =np.array([np.float32(item) for sublist in outputs_a for item in sublist])"
      ]
    },
    {
      "cell_type": "markdown",
      "source": [
        "IndexFlatL2"
      ],
      "metadata": {
        "id": "J4pgpJuZJ0_B"
      }
    },
    {
      "cell_type": "code",
      "source": [
        "%%time\n",
        "d=list_embeddings1.shape[1]\n",
        "import faiss\n",
        "#IndexFlatL2\n",
        "index_table1 = faiss.IndexFlatL2(d)\n",
        "index_table1.add(list_embeddings1)"
      ],
      "metadata": {
        "id": "yqKI6EMDzfE5",
        "colab": {
          "base_uri": "https://localhost:8080/"
        },
        "outputId": "753010ef-78c6-4326-b66c-3b57f13cf3ea"
      },
      "execution_count": null,
      "outputs": [
        {
          "output_type": "stream",
          "name": "stdout",
          "text": [
            "CPU times: user 61.4 ms, sys: 47 ms, total: 108 ms\n",
            "Wall time: 124 ms\n"
          ]
        }
      ]
    },
    {
      "cell_type": "code",
      "source": [
        "!pip install tqdm"
      ],
      "metadata": {
        "colab": {
          "base_uri": "https://localhost:8080/"
        },
        "id": "78HpFaOKDuOq",
        "outputId": "6a1462c8-5db9-4e10-f0e8-36072b41e3b7"
      },
      "execution_count": null,
      "outputs": [
        {
          "output_type": "stream",
          "name": "stdout",
          "text": [
            "Looking in indexes: https://pypi.org/simple, https://us-python.pkg.dev/colab-wheels/public/simple/\n",
            "Requirement already satisfied: tqdm in /usr/local/lib/python3.7/dist-packages (4.64.1)\n"
          ]
        }
      ]
    },
    {
      "cell_type": "code",
      "source": [
        "index_table1.is_trained"
      ],
      "metadata": {
        "colab": {
          "base_uri": "https://localhost:8080/"
        },
        "id": "qru031Q90B_t",
        "outputId": "80c8fd73-dc37-4077-8b1f-a83a5ee6c8eb"
      },
      "execution_count": null,
      "outputs": [
        {
          "output_type": "execute_result",
          "data": {
            "text/plain": [
              "True"
            ]
          },
          "metadata": {},
          "execution_count": 16
        }
      ]
    },
    {
      "cell_type": "code",
      "source": [
        "# print(type(list_embeddings[0][0]))\n",
        "# print(list_embeddings.shape)\n",
        "# index_table1.add(list_embeddings1)"
      ],
      "metadata": {
        "id": "mVxbLThrES1f"
      },
      "execution_count": null,
      "outputs": []
    },
    {
      "cell_type": "markdown",
      "source": [
        "Checking embeddings are added or not"
      ],
      "metadata": {
        "id": "ExjpmXxGKQS0"
      }
    },
    {
      "cell_type": "code",
      "source": [
        "index_table1.ntotal"
      ],
      "metadata": {
        "colab": {
          "base_uri": "https://localhost:8080/"
        },
        "id": "dPNwcpqLMTxe",
        "outputId": "ac24e1cd-1edd-4103-9ac9-ef9d4f89f89c"
      },
      "execution_count": null,
      "outputs": [
        {
          "output_type": "execute_result",
          "data": {
            "text/plain": [
              "50000"
            ]
          },
          "metadata": {},
          "execution_count": 17
        }
      ]
    },
    {
      "cell_type": "markdown",
      "source": [
        "Generating embeddings for test set- query embeddings"
      ],
      "metadata": {
        "id": "xL9gNDM7O3B2"
      }
    },
    {
      "cell_type": "code",
      "source": [
        "outputs=[]\n",
        "\n",
        "def image_embeddings(m, i, o):\n",
        "    \"\"\"Copy embeddings from the penultimate layer.\n",
        "    \"\"\"\n",
        "    o = o[:, :, 0, 0].detach().numpy().tolist()\n",
        "    outputs.append(o)\n",
        "def create_img_embeddings():\n",
        "    outputs = []\n",
        "# attach hook to the penulimate layer\n",
        "    _ = layer.register_forward_hook(image_embeddings)\n",
        "    model_a.eval() # Inference model\n",
        "\n",
        "# Generate image's embeddings for all images in dloader and saves\n",
        "# them in the list outputs\n",
        "# count=0\n",
        "for i in testloader:\n",
        "    model_a = torch.hub.load('pytorch/vision:v0.10.0', 'resnet18', pretrained=True)\n",
        "    # Select the desired layer\n",
        "    layer = model_a._modules.get('avgpool')\n",
        "    create_img_embeddings()\n",
        "    _ = model_a(i[0])\n",
        "    # count+=1\n",
        "    # print(count)\n",
        "# flatten list of embeddings to remove batches\n",
        "query_embeddings1 =np.array([np.float32(item) for sublist in outputs for item in sublist])\n",
        "print(query_embeddings1.shape)\n",
        "\n",
        "\n",
        "\n",
        ""
      ],
      "metadata": {
        "id": "mYaLIMUNNLnb"
      },
      "execution_count": null,
      "outputs": []
    },
    {
      "cell_type": "markdown",
      "source": [
        "Print images corresponding to IDs"
      ],
      "metadata": {
        "id": "V0KFw5l2labM"
      }
    },
    {
      "cell_type": "code",
      "source": [
        "def print_images(I):\n",
        "  ID1=I[0][0]\n",
        "  ID2=I[0][1]\n",
        "  ID3=I[0][2]\n",
        "  ID4=I[0][3]\n",
        "  ID5=I[0][4]\n",
        "  rows=0\n",
        "  cols=1\n",
        "  for batch in trainloader:\n",
        "      inputs, targets = batch\n",
        "      for img in inputs:\n",
        "        if(rows*10+cols == ID1 or rows*10+cols == ID2 or rows*10+cols == ID3 or rows*10+cols == ID4 or rows*10+cols == ID5):\n",
        "            image  = img.cpu().numpy()\n",
        "            # transpose image to fit plt input\n",
        "            image = image.T\n",
        "            image=image.transpose(1,0,2)\n",
        "            # normalise image\n",
        "            data_min = np.min(image, axis=(0,1), keepdims=True)\n",
        "            data_max = np.max(image, axis=(0,1), keepdims=True)\n",
        "            scaled_data = (image - data_min) / (data_max - data_min)\n",
        "            # show image\n",
        "            plt.imshow(scaled_data)\n",
        "            plt.show()\n",
        "        cols+=1\n",
        "      rows+=1\n",
        "      cols=1\n",
        "\n",
        "\n",
        "\n",
        ""
      ],
      "metadata": {
        "id": "4GU0ayn7laBv"
      },
      "execution_count": null,
      "outputs": []
    },
    {
      "cell_type": "markdown",
      "source": [
        "Printing similar 5 IDs corresponding to query images & printing them"
      ],
      "metadata": {
        "id": "LypaQaA7kmqv"
      }
    },
    {
      "cell_type": "code",
      "source": [
        "%%time\n",
        "k=5\n",
        "count=1\n",
        "for i in query_embeddings1:\n",
        "    j=i.reshape(1,512)\n",
        "    D,I = index_table1.search(j,k)\n",
        "    print('similar 5 IDs corresponding to query-',count)\n",
        "    count=count+1\n",
        "    print(D)\n",
        "    print(I)\n",
        "    # print_images(I)\n",
        "    # break"
      ],
      "metadata": {
        "id": "pft9ZnikVKc0"
      },
      "execution_count": null,
      "outputs": []
    },
    {
      "cell_type": "markdown",
      "source": [
        "**Using modified pretrianed RESNET18 model for obtaining image embeddings**"
      ],
      "metadata": {
        "id": "v8f0kqQ5kCFr"
      }
    },
    {
      "cell_type": "code",
      "source": [
        "import torch\n",
        "import torch.nn as nn\n",
        "import torch.nn.functional as F\n",
        "import torch.backends.cudnn as cudnn\n",
        "import torchvision\n",
        "\n",
        "\n",
        "class BasicBlock(nn.Module):\n",
        "    expansion = 1\n",
        "\n",
        "    def __init__(self, in_planes, planes, stride=1):\n",
        "        super(BasicBlock, self).__init__()\n",
        "        self.conv1 = nn.Conv2d(\n",
        "            in_planes, planes, kernel_size=3, stride=stride, padding=1, bias=False)\n",
        "        self.bn1 = nn.BatchNorm2d(planes)\n",
        "        self.conv2 = nn.Conv2d(planes, planes, kernel_size=3,\n",
        "                               stride=1, padding=1, bias=False)\n",
        "        self.bn2 = nn.BatchNorm2d(planes)\n",
        "\n",
        "        self.shortcut = nn.Sequential()\n",
        "        if stride != 1 or in_planes != self.expansion*planes:\n",
        "            self.shortcut = nn.Sequential(\n",
        "                nn.Conv2d(in_planes, self.expansion*planes,\n",
        "                          kernel_size=1, stride=stride, bias=False),\n",
        "                nn.BatchNorm2d(self.expansion*planes)\n",
        "            )\n",
        "\n",
        "    def forward(self, x):\n",
        "        out = F.relu(self.bn1(self.conv1(x)))\n",
        "        out = self.bn2(self.conv2(out))\n",
        "        out += self.shortcut(x)\n",
        "        out = F.relu(out)\n",
        "        return out\n",
        "\n",
        "\n",
        "class Bottleneck(nn.Module):\n",
        "    expansion = 4\n",
        "\n",
        "    def __init__(self, in_planes, planes, stride=1):\n",
        "        super(Bottleneck, self).__init__()\n",
        "        self.conv1 = nn.Conv2d(in_planes, planes, kernel_size=1, bias=False)\n",
        "        self.bn1 = nn.BatchNorm2d(planes)\n",
        "        self.conv2 = nn.Conv2d(planes, planes, kernel_size=3,\n",
        "                               stride=stride, padding=1, bias=False)\n",
        "        self.bn2 = nn.BatchNorm2d(planes)\n",
        "        self.conv3 = nn.Conv2d(planes, self.expansion *\n",
        "                               planes, kernel_size=1, bias=False)\n",
        "        self.bn3 = nn.BatchNorm2d(self.expansion*planes)\n",
        "\n",
        "        self.shortcut = nn.Sequential()\n",
        "        if stride != 1 or in_planes != self.expansion*planes:\n",
        "            self.shortcut = nn.Sequential(\n",
        "                nn.Conv2d(in_planes, self.expansion*planes,\n",
        "                          kernel_size=1, stride=stride, bias=False),\n",
        "                nn.BatchNorm2d(self.expansion*planes)\n",
        "            )\n",
        "\n",
        "    def forward(self, x):\n",
        "        out = F.relu(self.bn1(self.conv1(x)))\n",
        "        out = F.relu(self.bn2(self.conv2(out)))\n",
        "        out = self.bn3(self.conv3(out))\n",
        "        out += self.shortcut(x)\n",
        "        out = F.relu(out)\n",
        "        return out\n",
        "\n",
        "\n",
        "class ResNet(nn.Module):\n",
        "    def __init__(self, block, num_blocks, num_classes=10):\n",
        "        super(ResNet, self).__init__()\n",
        "        self.in_planes = 64\n",
        "\n",
        "        self.conv1 = nn.Conv2d(3, 64, kernel_size=3,\n",
        "                               stride=1, padding=1, bias=False)\n",
        "        self.bn1 = nn.BatchNorm2d(64)\n",
        "        self.layer1 = self._make_layer(block, 64, num_blocks[0], stride=1)\n",
        "        self.layer2 = self._make_layer(block, 128, num_blocks[1], stride=2)\n",
        "        self.layer3 = self._make_layer(block, 256, num_blocks[2], stride=2)\n",
        "        self.layer4 = self._make_layer(block, 512, num_blocks[3], stride=2)\n",
        "        self.avgpool = nn.AvgPool2d(4)\n",
        "        self.linear = nn.Linear(512*block.expansion, num_classes)\n",
        "\n",
        "    def _make_layer(self, block, planes, num_blocks, stride):\n",
        "        strides = [stride] + [1]*(num_blocks-1)\n",
        "        layers = []\n",
        "        for stride in strides:\n",
        "            layers.append(block(self.in_planes, planes, stride))\n",
        "            self.in_planes = planes * block.expansion\n",
        "        return nn.Sequential(*layers)\n",
        "\n",
        "    def forward(self, x):\n",
        "        out = F.relu(self.bn1(self.conv1(x)))\n",
        "        out = self.layer1(out)\n",
        "        out = self.layer2(out)\n",
        "        out = self.layer3(out)\n",
        "        out = self.layer4(out)\n",
        "        out = self.avgpool(out)\n",
        "        out = out.view(out.size(0), -1)\n",
        "        out = self.linear(out)\n",
        "        return out\n",
        "\n",
        "def _resnet(block, layers):\n",
        "    model = ResNet(block, layers)\n",
        "    return model\n",
        "\n",
        "def ResNet18():\n",
        "    return _resnet(BasicBlock, [2, 2, 2, 2])\n"
      ],
      "metadata": {
        "id": "CVyfMbS2kBi1"
      },
      "execution_count": null,
      "outputs": []
    },
    {
      "cell_type": "code",
      "source": [
        "model_b=ResNet18()"
      ],
      "metadata": {
        "id": "WMM9KEYkkRJA"
      },
      "execution_count": null,
      "outputs": []
    },
    {
      "cell_type": "code",
      "execution_count": null,
      "metadata": {
        "id": "2S7OBvjYmGIK"
      },
      "outputs": [],
      "source": [
        "# Select the desired layer\n",
        "layer_b = model_b._modules.get('avgpool')\n",
        "\n",
        "def image_embeddings(m, i, o):\n",
        "    \"\"\"Copy embeddings from the penultimate layer.\n",
        "    \"\"\"\n",
        "    o = o[:, :, 0, 0].detach().numpy().tolist()\n",
        "    outputs.append(o)\n",
        "\n",
        "outputs = []\n",
        "# attach hook to the penulimate layer\n",
        "_ = layer_b.register_forward_hook(image_embeddings)\n",
        "\n",
        "model_b.eval() # Inference model\n",
        "\n",
        "# Generate image's embeddings for all images in dloader and saves\n",
        "# them in the list outputs\n",
        "# count=0\n",
        "for i in trainloader:\n",
        "    _ = model_b(i[0])\n",
        "    # count+=1\n",
        "    # print(count)\n",
        "# flatten list of embeddings to remove batches\n",
        "list_embeddings2 =np.array([np.float32(item) for sublist in outputs for item in sublist])"
      ]
    },
    {
      "cell_type": "code",
      "source": [
        "print(list_embeddings2.shape)"
      ],
      "metadata": {
        "colab": {
          "base_uri": "https://localhost:8080/"
        },
        "id": "nLYYpzUqM0Vd",
        "outputId": "4dfc61d4-3272-48d9-89c4-d7ecfe52eeeb"
      },
      "execution_count": null,
      "outputs": [
        {
          "output_type": "stream",
          "name": "stdout",
          "text": [
            "(50000, 512)\n"
          ]
        }
      ]
    },
    {
      "cell_type": "code",
      "source": [
        "%%time\n",
        "d=list_embeddings2.shape[1]\n",
        "import faiss\n",
        "#IndexFlatL2\n",
        "index_table2 = faiss.IndexFlatL2(d)\n",
        "index_table2.add(list_embeddings2)"
      ],
      "metadata": {
        "id": "73w6ckKwUHai",
        "colab": {
          "base_uri": "https://localhost:8080/"
        },
        "outputId": "94800783-5c6f-41e5-9b92-64dd8daa09ea"
      },
      "execution_count": null,
      "outputs": [
        {
          "output_type": "stream",
          "name": "stdout",
          "text": [
            "CPU times: user 28 ms, sys: 46 ms, total: 74 ms\n",
            "Wall time: 74 ms\n"
          ]
        }
      ]
    },
    {
      "cell_type": "code",
      "source": [
        "index_table2.is_trained"
      ],
      "metadata": {
        "colab": {
          "base_uri": "https://localhost:8080/"
        },
        "outputId": "76de4361-703d-41c6-af09-cfee3d8cc801",
        "id": "AtcXApWbmwZ3"
      },
      "execution_count": null,
      "outputs": [
        {
          "output_type": "execute_result",
          "data": {
            "text/plain": [
              "True"
            ]
          },
          "metadata": {},
          "execution_count": 20
        }
      ]
    },
    {
      "cell_type": "code",
      "source": [
        "# index_table2.add(list_embeddings2)"
      ],
      "metadata": {
        "id": "UZj5JHh4m2ld"
      },
      "execution_count": null,
      "outputs": []
    },
    {
      "cell_type": "code",
      "source": [
        "print(index_table2.ntotal)"
      ],
      "metadata": {
        "colab": {
          "base_uri": "https://localhost:8080/"
        },
        "id": "fGDfh-qMV_6t",
        "outputId": "737f3a4c-f58a-49bf-e944-b3544a3d04a8"
      },
      "execution_count": null,
      "outputs": [
        {
          "output_type": "stream",
          "name": "stdout",
          "text": [
            "50000\n"
          ]
        }
      ]
    },
    {
      "cell_type": "code",
      "source": [
        "outputs=[]\n",
        "\n",
        "def image_embeddings(m, i, o):\n",
        "    \"\"\"Copy embeddings from the penultimate layer.\n",
        "    \"\"\"\n",
        "    o = o[:, :, 0, 0].detach().numpy().tolist()\n",
        "    outputs.append(o)\n",
        "def create_img_embeddings():\n",
        "    outputs = []\n",
        "# attach hook to the penulimate layer\n",
        "    _ = layer.register_forward_hook(image_embeddings)\n",
        "    model_b.eval() # Inference model\n",
        "\n",
        "# Generate image's embeddings for all images in dloader and saves\n",
        "# them in the list outputs\n",
        "# count=0\n",
        "for i in testloader:\n",
        "    model_b = ResNet18()\n",
        "    # Select the desired layer\n",
        "    layer = model_b._modules.get('avgpool')\n",
        "    create_img_embeddings()\n",
        "    _ = model_b(i[0])\n",
        "    # count+=1\n",
        "    # print(count)\n",
        "# flatten list of embeddings to remove batches\n",
        "query_embeddings2 =np.array([np.float32(item) for sublist in outputs for item in sublist])\n",
        "print(query_embeddings2.shape)\n",
        "\n",
        "\n",
        "\n",
        ""
      ],
      "metadata": {
        "colab": {
          "base_uri": "https://localhost:8080/"
        },
        "id": "oR-sEYUunD8z",
        "outputId": "5fa72c37-85df-4841-fb0e-6f2e64c99e78"
      },
      "execution_count": null,
      "outputs": [
        {
          "output_type": "stream",
          "name": "stdout",
          "text": [
            "(10000, 512)\n"
          ]
        }
      ]
    },
    {
      "cell_type": "markdown",
      "source": [
        "Printing similar 5 IDs corresponding to query images & printing them"
      ],
      "metadata": {
        "id": "HwQ_Q9jon2wi"
      }
    },
    {
      "cell_type": "code",
      "source": [
        "%%time\n",
        "# def print_images(I):\n",
        "#   ID1=I[0][0]\n",
        "#   ID2=I[0][1]\n",
        "#   ID3=I[0][2]\n",
        "#   ID4=I[0][3]\n",
        "#   ID5=I[0][4]\n",
        "#   # print(ID1)\n",
        "#   rows=0\n",
        "#   cols=1\n",
        "#   for batch in trainloader:\n",
        "#       inputs, targets = batch\n",
        "#       for img in inputs:\n",
        "#         # print(rows*10+cols)\n",
        "#         if(rows*10+cols == ID1 or rows*10+cols == ID2 or rows*10+cols == ID3 or rows*10+cols == ID4 or rows*10+cols == ID5):\n",
        "#             image  = img.cpu().numpy()\n",
        "#             # transpose image to fit plt input\n",
        "#             image = image.T\n",
        "#             image=image.transpose(1,0,2)\n",
        "#             # normalise image\n",
        "#             data_min = np.min(image, axis=(0,1), keepdims=True)\n",
        "#             data_max = np.max(image, axis=(0,1), keepdims=True)\n",
        "#             scaled_data = (image - data_min) / (data_max - data_min)\n",
        "#             # show image\n",
        "#             plt.imshow(scaled_data)\n",
        "#             plt.show()\n",
        "#         cols+=1\n",
        "#       rows+=1\n",
        "#       cols=1\n",
        "\n",
        "k=5\n",
        "count=1\n",
        "\n",
        "for i in query_embeddings2:\n",
        "    j=i.reshape(1,512)\n",
        "    D,I = index_table2.search(j,k)\n",
        "    print('similar 5 IDs corresponding to query-',count)\n",
        "    count=count+1\n",
        "    print(I)\n",
        "    # print_images(I)\n",
        "    break"
      ],
      "metadata": {
        "colab": {
          "base_uri": "https://localhost:8080/"
        },
        "id": "hRnnfr2Dn6eA",
        "outputId": "0ff3bbfd-3315-409e-8166-501c889b14c4"
      },
      "execution_count": null,
      "outputs": [
        {
          "output_type": "stream",
          "name": "stdout",
          "text": [
            "similar 5 IDs corresponding to query- 1\n",
            "[[14940 14171   518  8843 32577]]\n",
            "CPU times: user 38.2 ms, sys: 976 µs, total: 39.1 ms\n",
            "Wall time: 38.5 ms\n"
          ]
        }
      ]
    },
    {
      "cell_type": "markdown",
      "source": [
        "**Using Qunatisers**"
      ],
      "metadata": {
        "id": "f44H_9ciYSQI"
      }
    },
    {
      "cell_type": "markdown",
      "source": [
        "**Using IVFFlat Quantiser**"
      ],
      "metadata": {
        "id": "54sQUtmwlpe0"
      }
    },
    {
      "cell_type": "code",
      "source": [
        "%%time\n",
        "#Using IndexIVFFlat quantiser - q1\n",
        "nlist=50\n",
        "quantiser=faiss.IndexFlatL2(d)\n",
        "# index_table1_q1=faiss.IndexIVFFlat(quantiser,d,nlist)\n",
        "\n",
        "# index_table1_q1.train(list_embeddings1)\n",
        "\n",
        "# index_table1_q1.add(list_embeddings1)\n"
      ],
      "metadata": {
        "id": "XAnPEgo9ZXo9",
        "colab": {
          "base_uri": "https://localhost:8080/"
        },
        "outputId": "4b478947-4606-4ff7-beb9-579c5431adf5"
      },
      "execution_count": null,
      "outputs": [
        {
          "output_type": "stream",
          "name": "stdout",
          "text": [
            "CPU times: user 21 µs, sys: 1e+03 ns, total: 22 µs\n",
            "Wall time: 24.1 µs\n"
          ]
        }
      ]
    },
    {
      "cell_type": "code",
      "source": [
        "%%time\n",
        "index_table1_q1=faiss.IndexIVFFlat(quantiser,d,nlist)\n",
        "\n",
        "index_table1_q1.train(list_embeddings1)\n",
        "\n",
        "index_table1_q1.add(list_embeddings1)"
      ],
      "metadata": {
        "colab": {
          "base_uri": "https://localhost:8080/"
        },
        "id": "7TrYmjqzgjj5",
        "outputId": "ddbff415-00fe-4ab3-b669-57fc4125fdc2"
      },
      "execution_count": null,
      "outputs": [
        {
          "output_type": "stream",
          "name": "stdout",
          "text": [
            "CPU times: user 502 ms, sys: 13 ms, total: 515 ms\n",
            "Wall time: 515 ms\n"
          ]
        }
      ]
    },
    {
      "cell_type": "code",
      "source": [
        "%%time\n",
        "index_table2_q1=faiss.IndexIVFFlat(quantiser,d,nlist)\n",
        "index_table2_q1.train(list_embeddings2)\n",
        "index_table2_q1.add(list_embeddings2)"
      ],
      "metadata": {
        "colab": {
          "base_uri": "https://localhost:8080/"
        },
        "id": "_S937Q-agVtd",
        "outputId": "85a5552b-8ec6-4102-9481-b3002f8da6ad"
      },
      "execution_count": null,
      "outputs": [
        {
          "output_type": "stream",
          "name": "stdout",
          "text": [
            "CPU times: user 179 ms, sys: 7.01 ms, total: 186 ms\n",
            "Wall time: 181 ms\n"
          ]
        }
      ]
    },
    {
      "cell_type": "markdown",
      "source": [
        "Checking whether index tables are trained or not"
      ],
      "metadata": {
        "id": "Y58iaLZ6ljVo"
      }
    },
    {
      "cell_type": "code",
      "source": [
        "index_table1_q1.is_trained\n",
        "index_table2_q1.is_trained"
      ],
      "metadata": {
        "colab": {
          "base_uri": "https://localhost:8080/"
        },
        "id": "LanvO7QReR1O",
        "outputId": "2347a2db-4939-4918-acb1-08a2e6fac409"
      },
      "execution_count": null,
      "outputs": [
        {
          "output_type": "execute_result",
          "data": {
            "text/plain": [
              "True"
            ]
          },
          "metadata": {},
          "execution_count": 26
        }
      ]
    },
    {
      "cell_type": "markdown",
      "source": [
        "Training index tables"
      ],
      "metadata": {
        "id": "msTag4nPlBtX"
      }
    },
    {
      "cell_type": "code",
      "source": [
        "# index_table1_q1.train(list_embeddings1)\n",
        "# index_table2_q1.train(list_embeddings2)"
      ],
      "metadata": {
        "id": "uYGb2Fi-b9lU"
      },
      "execution_count": null,
      "outputs": []
    },
    {
      "cell_type": "markdown",
      "source": [
        "Checking whether index tables are trained or not"
      ],
      "metadata": {
        "id": "zzlIMGZIk8fu"
      }
    },
    {
      "cell_type": "code",
      "source": [
        "index_table1_q1.is_trained\n",
        "index_table2_q1.is_trained"
      ],
      "metadata": {
        "colab": {
          "base_uri": "https://localhost:8080/"
        },
        "id": "W5s59Dukk22V",
        "outputId": "951a901e-7cd7-4999-9ef8-0d1a84bfce2a"
      },
      "execution_count": null,
      "outputs": [
        {
          "output_type": "execute_result",
          "data": {
            "text/plain": [
              "True"
            ]
          },
          "metadata": {},
          "execution_count": 28
        }
      ]
    },
    {
      "cell_type": "markdown",
      "source": [
        "Adding image embeddings to index tables"
      ],
      "metadata": {
        "id": "JHPP20uJlV5n"
      }
    },
    {
      "cell_type": "code",
      "source": [
        "# index_table1_q1.add(list_embeddings1)\n",
        "# index_table2_q1.add(list_embeddings2)"
      ],
      "metadata": {
        "id": "MLT-kCmod-1R"
      },
      "execution_count": null,
      "outputs": []
    },
    {
      "cell_type": "markdown",
      "source": [
        "Testing IVFFlat qunatiser for table 1"
      ],
      "metadata": {
        "id": "fOVBxOnhkwBE"
      }
    },
    {
      "cell_type": "code",
      "source": [
        "%%time\n",
        "#testing index_table_q1\n",
        "k=5\n",
        "count=1\n",
        "\n",
        "for i in query_embeddings1:\n",
        "    j=i.reshape(1,512)\n",
        "    D,I = index_table1_q1.search(j,k)\n",
        "    print('similar 5 IDs corresponding to query-',count)\n",
        "    count=count+1\n",
        "    print(I)\n",
        "    # print_images(I)\n",
        "    break"
      ],
      "metadata": {
        "colab": {
          "base_uri": "https://localhost:8080/"
        },
        "id": "B3WhW2_3ejmL",
        "outputId": "0aaa6b59-9c75-4380-a821-ec0deb359e1b"
      },
      "execution_count": null,
      "outputs": [
        {
          "output_type": "stream",
          "name": "stdout",
          "text": [
            "similar 5 IDs corresponding to query- 1\n",
            "[[ 7695  3834 34354  2049   944]]\n",
            "CPU times: user 1.97 ms, sys: 0 ns, total: 1.97 ms\n",
            "Wall time: 2.49 ms\n"
          ]
        }
      ]
    },
    {
      "cell_type": "markdown",
      "source": [
        "Testing IVFFlat quantiser for table 2"
      ],
      "metadata": {
        "id": "kdDqUotaklT5"
      }
    },
    {
      "cell_type": "code",
      "source": [
        "%%time\n",
        "#testing index_table_q2\n",
        "k=5\n",
        "count=1\n",
        "\n",
        "for i in query_embeddings2:\n",
        "    j=i.reshape(1,512)\n",
        "    D,I = index_table2_q1.search(j,k)\n",
        "    print('similar 5 IDs corresponding to query-',count)\n",
        "    count=count+1\n",
        "    print(I)\n",
        "    # print_images(I)\n",
        "    break"
      ],
      "metadata": {
        "colab": {
          "base_uri": "https://localhost:8080/"
        },
        "id": "lQS6VPNieuIR",
        "outputId": "ca2434ee-51c7-440b-91ec-0c68d7a43ad0"
      },
      "execution_count": null,
      "outputs": [
        {
          "output_type": "stream",
          "name": "stdout",
          "text": [
            "similar 5 IDs corresponding to query- 1\n",
            "[[14940 14171   518  8843 32577]]\n",
            "CPU times: user 37.4 ms, sys: 0 ns, total: 37.4 ms\n",
            "Wall time: 36.3 ms\n"
          ]
        }
      ]
    },
    {
      "cell_type": "markdown",
      "source": [
        "**Using IVFPQ Quantiser**"
      ],
      "metadata": {
        "id": "CT6lbBD6kfAb"
      }
    },
    {
      "cell_type": "code",
      "source": [
        "%%time\n",
        "#Using IndexIVFPQ quantiser - q2\n",
        "m=8\n",
        "bits=8\n",
        "\n",
        "quantiser2=faiss.IndexFlatL2(d)\n"
      ],
      "metadata": {
        "id": "aJ0vP-2lb1Lp",
        "colab": {
          "base_uri": "https://localhost:8080/"
        },
        "outputId": "17e90a12-2803-454c-898e-32c210af408c"
      },
      "execution_count": null,
      "outputs": [
        {
          "output_type": "stream",
          "name": "stdout",
          "text": [
            "CPU times: user 28 s, sys: 235 ms, total: 28.3 s\n",
            "Wall time: 28.1 s\n"
          ]
        }
      ]
    },
    {
      "cell_type": "code",
      "source": [
        "%%time\n",
        "index_table1_q2=faiss.IndexIVFPQ(quantiser2,d,nlist,m,bits)\n",
        "\n",
        "index_table1_q2.train(list_embeddings1)\n",
        "\n",
        "index_table1_q2.add(list_embeddings1)\n"
      ],
      "metadata": {
        "colab": {
          "base_uri": "https://localhost:8080/"
        },
        "id": "pW_ATmqShOio",
        "outputId": "d6c0e2b2-0498-417c-d8bb-0a7cddb99191"
      },
      "execution_count": null,
      "outputs": [
        {
          "output_type": "stream",
          "name": "stdout",
          "text": [
            "CPU times: user 14.2 s, sys: 66.7 ms, total: 14.3 s\n",
            "Wall time: 14.2 s\n"
          ]
        }
      ]
    },
    {
      "cell_type": "code",
      "source": [
        "%%time\n",
        "index_table2_q2=faiss.IndexIVFPQ(quantiser2,d,nlist,m,bits)\n",
        "index_table2_q2.train(list_embeddings2)\n",
        "index_table2_q2.add(list_embeddings2)"
      ],
      "metadata": {
        "colab": {
          "base_uri": "https://localhost:8080/"
        },
        "id": "r7NGXWDyhGsL",
        "outputId": "e403d8d4-e442-45be-c7eb-b98408e94580"
      },
      "execution_count": null,
      "outputs": [
        {
          "output_type": "stream",
          "name": "stdout",
          "text": [
            "CPU times: user 14.1 s, sys: 62.6 ms, total: 14.1 s\n",
            "Wall time: 14.1 s\n"
          ]
        }
      ]
    },
    {
      "cell_type": "markdown",
      "source": [
        "Checking whether index tables are trained or not"
      ],
      "metadata": {
        "id": "bhQpmnT4kKGx"
      }
    },
    {
      "cell_type": "code",
      "source": [
        "index_table1_q2.is_trained\n",
        "index_table2_q2.is_trained"
      ],
      "metadata": {
        "colab": {
          "base_uri": "https://localhost:8080/"
        },
        "id": "GqRH6zpbjS77",
        "outputId": "fe023ac9-f1b3-419a-f7d0-183ec90edd0f"
      },
      "execution_count": null,
      "outputs": [
        {
          "output_type": "execute_result",
          "data": {
            "text/plain": [
              "True"
            ]
          },
          "metadata": {},
          "execution_count": 33
        }
      ]
    },
    {
      "cell_type": "markdown",
      "source": [
        "Training index tables"
      ],
      "metadata": {
        "id": "9OjFD57TkPtb"
      }
    },
    {
      "cell_type": "code",
      "source": [
        "# index_table1_q2.train(list_embeddings1)\n",
        "# index_table2_q2.train(list_embeddings2)"
      ],
      "metadata": {
        "id": "RSzwnGkBjaAP"
      },
      "execution_count": null,
      "outputs": []
    },
    {
      "cell_type": "markdown",
      "source": [
        "checking whether index tables are trained or not"
      ],
      "metadata": {
        "id": "86k7GkiPkUUm"
      }
    },
    {
      "cell_type": "code",
      "source": [
        "index_table1_q2.is_trained\n",
        "index_table2_q2.is_trained"
      ],
      "metadata": {
        "colab": {
          "base_uri": "https://localhost:8080/"
        },
        "id": "wUk_2L0gja6d",
        "outputId": "3a54988b-8cec-4eb8-d44f-fb8898f76f29"
      },
      "execution_count": null,
      "outputs": [
        {
          "output_type": "execute_result",
          "data": {
            "text/plain": [
              "True"
            ]
          },
          "metadata": {},
          "execution_count": 35
        }
      ]
    },
    {
      "cell_type": "markdown",
      "source": [
        "Adding image embeddings to index tables"
      ],
      "metadata": {
        "id": "OTXnxdf_kYwh"
      }
    },
    {
      "cell_type": "code",
      "source": [
        "# index_table1_q2.add(list_embeddings1)\n",
        "# index_table2_q2.add(list_embeddings2)"
      ],
      "metadata": {
        "id": "vve63215jef6"
      },
      "execution_count": null,
      "outputs": []
    },
    {
      "cell_type": "markdown",
      "source": [
        "IVFPQ testing for index table 1"
      ],
      "metadata": {
        "id": "imk6ASSQkDrF"
      }
    },
    {
      "cell_type": "code",
      "source": [
        "%%time\n",
        "#testing index_table_q1\n",
        "k=5\n",
        "count=1\n",
        "\n",
        "for i in query_embeddings1:\n",
        "    j=i.reshape(1,512)\n",
        "    D,I = index_table1_q2.search(j,k)\n",
        "    print('similar 5 IDs corresponding to query-',count)\n",
        "    count=count+1\n",
        "    print(I)\n",
        "    # print_images(I)\n",
        "    break"
      ],
      "metadata": {
        "colab": {
          "base_uri": "https://localhost:8080/"
        },
        "id": "jXb8Qgy3jhOb",
        "outputId": "aa142876-fe0c-4c3c-c8a1-2d757a2bae7c"
      },
      "execution_count": null,
      "outputs": [
        {
          "output_type": "stream",
          "name": "stdout",
          "text": [
            "similar 5 IDs corresponding to query- 1\n",
            "[[40462  3834 40950  7695 34751]]\n",
            "CPU times: user 593 µs, sys: 0 ns, total: 593 µs\n",
            "Wall time: 609 µs\n"
          ]
        }
      ]
    },
    {
      "cell_type": "markdown",
      "source": [
        "IVFPQ testing for index table 2"
      ],
      "metadata": {
        "id": "DagbUcrQj8oI"
      }
    },
    {
      "cell_type": "code",
      "source": [
        "%%time\n",
        "#testing index_table_q2\n",
        "k=5\n",
        "count=1\n",
        "\n",
        "for i in query_embeddings2:\n",
        "    j=i.reshape(1,512)\n",
        "    D,I = index_table2_q2.search(j,k)\n",
        "    print('similar 5 IDs corresponding to query-',count)\n",
        "    count=count+1\n",
        "    print(I)\n",
        "    print_images(I)\n",
        ""
      ],
      "metadata": {
        "colab": {
          "base_uri": "https://localhost:8080/",
          "height": 148
        },
        "id": "KfSs1qqljk2K",
        "outputId": "adea2600-e79f-46d2-83a3-05a4a56ee3d0"
      },
      "execution_count": null,
      "outputs": [
        {
          "output_type": "error",
          "ename": "NameError",
          "evalue": "ignored",
          "traceback": [
            "\u001b[0;31m---------------------------------------------------------------------------\u001b[0m",
            "\u001b[0;31mNameError\u001b[0m                                 Traceback (most recent call last)",
            "\u001b[0;32m<timed exec>\u001b[0m in \u001b[0;36m<module>\u001b[0;34m\u001b[0m\n",
            "\u001b[0;31mNameError\u001b[0m: name 'query_embeddings2' is not defined"
          ]
        }
      ]
    }
  ],
  "metadata": {
    "accelerator": "GPU",
    "colab": {
      "provenance": []
    },
    "gpuClass": "standard",
    "kernelspec": {
      "display_name": "Python 3",
      "name": "python3"
    },
    "language_info": {
      "name": "python"
    },
    "widgets": {
      "application/vnd.jupyter.widget-state+json": {
        "364d287336364edd855ad71877326ab7": {
          "model_module": "@jupyter-widgets/controls",
          "model_name": "HBoxModel",
          "model_module_version": "1.5.0",
          "state": {
            "_dom_classes": [],
            "_model_module": "@jupyter-widgets/controls",
            "_model_module_version": "1.5.0",
            "_model_name": "HBoxModel",
            "_view_count": null,
            "_view_module": "@jupyter-widgets/controls",
            "_view_module_version": "1.5.0",
            "_view_name": "HBoxView",
            "box_style": "",
            "children": [
              "IPY_MODEL_b54e33ade4bf4da4bd7c7d6b3f721ccc",
              "IPY_MODEL_46844b177912422c88b1a26906710a2f",
              "IPY_MODEL_b9c7528efc564b9ba13cd40d7492a3d9"
            ],
            "layout": "IPY_MODEL_8f393592c379400483729f967b88109a"
          }
        },
        "b54e33ade4bf4da4bd7c7d6b3f721ccc": {
          "model_module": "@jupyter-widgets/controls",
          "model_name": "HTMLModel",
          "model_module_version": "1.5.0",
          "state": {
            "_dom_classes": [],
            "_model_module": "@jupyter-widgets/controls",
            "_model_module_version": "1.5.0",
            "_model_name": "HTMLModel",
            "_view_count": null,
            "_view_module": "@jupyter-widgets/controls",
            "_view_module_version": "1.5.0",
            "_view_name": "HTMLView",
            "description": "",
            "description_tooltip": null,
            "layout": "IPY_MODEL_e337caca49304cc7b1d22bc40857c3bd",
            "placeholder": "​",
            "style": "IPY_MODEL_bd533ecd9e27497792e60b8c43d9e821",
            "value": "100%"
          }
        },
        "46844b177912422c88b1a26906710a2f": {
          "model_module": "@jupyter-widgets/controls",
          "model_name": "FloatProgressModel",
          "model_module_version": "1.5.0",
          "state": {
            "_dom_classes": [],
            "_model_module": "@jupyter-widgets/controls",
            "_model_module_version": "1.5.0",
            "_model_name": "FloatProgressModel",
            "_view_count": null,
            "_view_module": "@jupyter-widgets/controls",
            "_view_module_version": "1.5.0",
            "_view_name": "ProgressView",
            "bar_style": "success",
            "description": "",
            "description_tooltip": null,
            "layout": "IPY_MODEL_d8efdcd2b4a84f488075e035e61690fc",
            "max": 46830571,
            "min": 0,
            "orientation": "horizontal",
            "style": "IPY_MODEL_19bb8da204a44c6fb74156861fcfbec1",
            "value": 46830571
          }
        },
        "b9c7528efc564b9ba13cd40d7492a3d9": {
          "model_module": "@jupyter-widgets/controls",
          "model_name": "HTMLModel",
          "model_module_version": "1.5.0",
          "state": {
            "_dom_classes": [],
            "_model_module": "@jupyter-widgets/controls",
            "_model_module_version": "1.5.0",
            "_model_name": "HTMLModel",
            "_view_count": null,
            "_view_module": "@jupyter-widgets/controls",
            "_view_module_version": "1.5.0",
            "_view_name": "HTMLView",
            "description": "",
            "description_tooltip": null,
            "layout": "IPY_MODEL_43ed7d3008054e7b89952066bef70883",
            "placeholder": "​",
            "style": "IPY_MODEL_561b5cc11fea42f49c3b074eafa861cc",
            "value": " 44.7M/44.7M [00:00&lt;00:00, 179MB/s]"
          }
        },
        "8f393592c379400483729f967b88109a": {
          "model_module": "@jupyter-widgets/base",
          "model_name": "LayoutModel",
          "model_module_version": "1.2.0",
          "state": {
            "_model_module": "@jupyter-widgets/base",
            "_model_module_version": "1.2.0",
            "_model_name": "LayoutModel",
            "_view_count": null,
            "_view_module": "@jupyter-widgets/base",
            "_view_module_version": "1.2.0",
            "_view_name": "LayoutView",
            "align_content": null,
            "align_items": null,
            "align_self": null,
            "border": null,
            "bottom": null,
            "display": null,
            "flex": null,
            "flex_flow": null,
            "grid_area": null,
            "grid_auto_columns": null,
            "grid_auto_flow": null,
            "grid_auto_rows": null,
            "grid_column": null,
            "grid_gap": null,
            "grid_row": null,
            "grid_template_areas": null,
            "grid_template_columns": null,
            "grid_template_rows": null,
            "height": null,
            "justify_content": null,
            "justify_items": null,
            "left": null,
            "margin": null,
            "max_height": null,
            "max_width": null,
            "min_height": null,
            "min_width": null,
            "object_fit": null,
            "object_position": null,
            "order": null,
            "overflow": null,
            "overflow_x": null,
            "overflow_y": null,
            "padding": null,
            "right": null,
            "top": null,
            "visibility": null,
            "width": null
          }
        },
        "e337caca49304cc7b1d22bc40857c3bd": {
          "model_module": "@jupyter-widgets/base",
          "model_name": "LayoutModel",
          "model_module_version": "1.2.0",
          "state": {
            "_model_module": "@jupyter-widgets/base",
            "_model_module_version": "1.2.0",
            "_model_name": "LayoutModel",
            "_view_count": null,
            "_view_module": "@jupyter-widgets/base",
            "_view_module_version": "1.2.0",
            "_view_name": "LayoutView",
            "align_content": null,
            "align_items": null,
            "align_self": null,
            "border": null,
            "bottom": null,
            "display": null,
            "flex": null,
            "flex_flow": null,
            "grid_area": null,
            "grid_auto_columns": null,
            "grid_auto_flow": null,
            "grid_auto_rows": null,
            "grid_column": null,
            "grid_gap": null,
            "grid_row": null,
            "grid_template_areas": null,
            "grid_template_columns": null,
            "grid_template_rows": null,
            "height": null,
            "justify_content": null,
            "justify_items": null,
            "left": null,
            "margin": null,
            "max_height": null,
            "max_width": null,
            "min_height": null,
            "min_width": null,
            "object_fit": null,
            "object_position": null,
            "order": null,
            "overflow": null,
            "overflow_x": null,
            "overflow_y": null,
            "padding": null,
            "right": null,
            "top": null,
            "visibility": null,
            "width": null
          }
        },
        "bd533ecd9e27497792e60b8c43d9e821": {
          "model_module": "@jupyter-widgets/controls",
          "model_name": "DescriptionStyleModel",
          "model_module_version": "1.5.0",
          "state": {
            "_model_module": "@jupyter-widgets/controls",
            "_model_module_version": "1.5.0",
            "_model_name": "DescriptionStyleModel",
            "_view_count": null,
            "_view_module": "@jupyter-widgets/base",
            "_view_module_version": "1.2.0",
            "_view_name": "StyleView",
            "description_width": ""
          }
        },
        "d8efdcd2b4a84f488075e035e61690fc": {
          "model_module": "@jupyter-widgets/base",
          "model_name": "LayoutModel",
          "model_module_version": "1.2.0",
          "state": {
            "_model_module": "@jupyter-widgets/base",
            "_model_module_version": "1.2.0",
            "_model_name": "LayoutModel",
            "_view_count": null,
            "_view_module": "@jupyter-widgets/base",
            "_view_module_version": "1.2.0",
            "_view_name": "LayoutView",
            "align_content": null,
            "align_items": null,
            "align_self": null,
            "border": null,
            "bottom": null,
            "display": null,
            "flex": null,
            "flex_flow": null,
            "grid_area": null,
            "grid_auto_columns": null,
            "grid_auto_flow": null,
            "grid_auto_rows": null,
            "grid_column": null,
            "grid_gap": null,
            "grid_row": null,
            "grid_template_areas": null,
            "grid_template_columns": null,
            "grid_template_rows": null,
            "height": null,
            "justify_content": null,
            "justify_items": null,
            "left": null,
            "margin": null,
            "max_height": null,
            "max_width": null,
            "min_height": null,
            "min_width": null,
            "object_fit": null,
            "object_position": null,
            "order": null,
            "overflow": null,
            "overflow_x": null,
            "overflow_y": null,
            "padding": null,
            "right": null,
            "top": null,
            "visibility": null,
            "width": null
          }
        },
        "19bb8da204a44c6fb74156861fcfbec1": {
          "model_module": "@jupyter-widgets/controls",
          "model_name": "ProgressStyleModel",
          "model_module_version": "1.5.0",
          "state": {
            "_model_module": "@jupyter-widgets/controls",
            "_model_module_version": "1.5.0",
            "_model_name": "ProgressStyleModel",
            "_view_count": null,
            "_view_module": "@jupyter-widgets/base",
            "_view_module_version": "1.2.0",
            "_view_name": "StyleView",
            "bar_color": null,
            "description_width": ""
          }
        },
        "43ed7d3008054e7b89952066bef70883": {
          "model_module": "@jupyter-widgets/base",
          "model_name": "LayoutModel",
          "model_module_version": "1.2.0",
          "state": {
            "_model_module": "@jupyter-widgets/base",
            "_model_module_version": "1.2.0",
            "_model_name": "LayoutModel",
            "_view_count": null,
            "_view_module": "@jupyter-widgets/base",
            "_view_module_version": "1.2.0",
            "_view_name": "LayoutView",
            "align_content": null,
            "align_items": null,
            "align_self": null,
            "border": null,
            "bottom": null,
            "display": null,
            "flex": null,
            "flex_flow": null,
            "grid_area": null,
            "grid_auto_columns": null,
            "grid_auto_flow": null,
            "grid_auto_rows": null,
            "grid_column": null,
            "grid_gap": null,
            "grid_row": null,
            "grid_template_areas": null,
            "grid_template_columns": null,
            "grid_template_rows": null,
            "height": null,
            "justify_content": null,
            "justify_items": null,
            "left": null,
            "margin": null,
            "max_height": null,
            "max_width": null,
            "min_height": null,
            "min_width": null,
            "object_fit": null,
            "object_position": null,
            "order": null,
            "overflow": null,
            "overflow_x": null,
            "overflow_y": null,
            "padding": null,
            "right": null,
            "top": null,
            "visibility": null,
            "width": null
          }
        },
        "561b5cc11fea42f49c3b074eafa861cc": {
          "model_module": "@jupyter-widgets/controls",
          "model_name": "DescriptionStyleModel",
          "model_module_version": "1.5.0",
          "state": {
            "_model_module": "@jupyter-widgets/controls",
            "_model_module_version": "1.5.0",
            "_model_name": "DescriptionStyleModel",
            "_view_count": null,
            "_view_module": "@jupyter-widgets/base",
            "_view_module_version": "1.2.0",
            "_view_name": "StyleView",
            "description_width": ""
          }
        }
      }
    }
  },
  "nbformat": 4,
  "nbformat_minor": 0
}